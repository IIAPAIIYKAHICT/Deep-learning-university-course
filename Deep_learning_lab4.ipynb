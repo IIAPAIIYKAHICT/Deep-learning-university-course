{
 "cells": [
  {
   "cell_type": "code",
   "execution_count": 1,
   "metadata": {},
   "outputs": [],
   "source": [
    "import torch "
   ]
  },
  {
   "cell_type": "markdown",
   "metadata": {},
   "source": [
    "## MLP with Batchnorm and dropout"
   ]
  },
  {
   "cell_type": "code",
   "execution_count": 2,
   "metadata": {},
   "outputs": [],
   "source": [
    "import torch.nn as nn\n",
    "import torch.nn.functional as F\n",
    "class Neuron(nn.Module):\n",
    "    def __init__(self, inputs: int, activation=None):\n",
    "        super(Neuron, self).__init__()\n",
    "        self.linear = nn.Linear(inputs, 1) \n",
    "        self.activation = activation if activation is not None else lambda x: x\n",
    "    \n",
    "    \n",
    "    def forward(self, x):\n",
    "        return self.activation(self.linear(x))\n",
    "\n",
    "class Layer(nn.Module):\n",
    "    def __init__(self, inputs: int, n_neurons: int, activation=None, batchnorm=None, p=None):\n",
    "        super(Layer, self).__init__()\n",
    "        self.linear = nn.Linear(inputs, n_neurons)\n",
    "        self.batchnorm = nn.BatchNorm1d(n_neurons) if batchnorm else None\n",
    "        self.dropout = nn.Dropout(p) if p else None\n",
    "        self.activation = activation if activation is not None else lambda x: x\n",
    "    \n",
    "    def forward(self, x):\n",
    "        x = self.linear(x)\n",
    "        if self.batchnorm is not None:\n",
    "            x = self.batchnorm(x)\n",
    "        if self.dropout is not None:\n",
    "            x = self.dropout(x)\n",
    "        if self.activation is not None:\n",
    "            x = self.activation(x)\n",
    "        return x\n",
    "\n",
    "class MLP(nn.Module):\n",
    "    def __init__(self, layer_sizes, activation_funcs=None, batchnorm_opts=None, dropout_opts=None):\n",
    "        super(MLP, self).__init__()\n",
    "        layers = []\n",
    "        for i in range(len(layer_sizes) - 1):\n",
    "            activation = activation_funcs[i] if activation_funcs and i < len(activation_funcs) else None\n",
    "            batchnorm = batchnorm_opts[i] if batchnorm_opts and i < len(batchnorm_opts) else False\n",
    "            dropout_prob = dropout_opts[i] if dropout_opts and i < len(dropout_opts) else None\n",
    "            layers.append(Layer(layer_sizes[i], layer_sizes[i+1], activation, batchnorm=batchnorm, p=dropout_prob))\n",
    "\n",
    "        self.layers = nn.ModuleList(layers)\n",
    "    \n",
    "    def forward(self, x):\n",
    "        for layer in self.layers:\n",
    "            x = layer(x)\n",
    "        return x\n"
   ]
  },
  {
   "cell_type": "code",
   "execution_count": 3,
   "metadata": {},
   "outputs": [],
   "source": [
    "from torchvision import datasets, transforms\n",
    "from torch.utils.data import DataLoader\n",
    "import torch.optim as optim"
   ]
  },
  {
   "cell_type": "markdown",
   "metadata": {},
   "source": [
    "## MLP class testing using MNIST dataset"
   ]
  },
  {
   "cell_type": "code",
   "execution_count": 4,
   "metadata": {},
   "outputs": [
    {
     "name": "stdout",
     "output_type": "stream",
     "text": [
      "Downloading http://yann.lecun.com/exdb/mnist/train-images-idx3-ubyte.gz\n",
      "Downloading http://yann.lecun.com/exdb/mnist/train-images-idx3-ubyte.gz to ./data\\MNIST\\raw\\train-images-idx3-ubyte.gz\n"
     ]
    },
    {
     "name": "stderr",
     "output_type": "stream",
     "text": [
      "100%|██████████| 9912422/9912422 [00:02<00:00, 4480861.23it/s]\n"
     ]
    },
    {
     "name": "stdout",
     "output_type": "stream",
     "text": [
      "Extracting ./data\\MNIST\\raw\\train-images-idx3-ubyte.gz to ./data\\MNIST\\raw\n",
      "\n",
      "Downloading http://yann.lecun.com/exdb/mnist/train-labels-idx1-ubyte.gz\n",
      "Downloading http://yann.lecun.com/exdb/mnist/train-labels-idx1-ubyte.gz to ./data\\MNIST\\raw\\train-labels-idx1-ubyte.gz\n"
     ]
    },
    {
     "name": "stderr",
     "output_type": "stream",
     "text": [
      "100%|██████████| 28881/28881 [00:00<?, ?it/s]"
     ]
    },
    {
     "name": "stdout",
     "output_type": "stream",
     "text": [
      "Extracting ./data\\MNIST\\raw\\train-labels-idx1-ubyte.gz to ./data\\MNIST\\raw\n"
     ]
    },
    {
     "name": "stderr",
     "output_type": "stream",
     "text": [
      "\n"
     ]
    },
    {
     "name": "stdout",
     "output_type": "stream",
     "text": [
      "\n",
      "Downloading http://yann.lecun.com/exdb/mnist/t10k-images-idx3-ubyte.gz\n",
      "Downloading http://yann.lecun.com/exdb/mnist/t10k-images-idx3-ubyte.gz to ./data\\MNIST\\raw\\t10k-images-idx3-ubyte.gz\n"
     ]
    },
    {
     "name": "stderr",
     "output_type": "stream",
     "text": [
      "100%|██████████| 1648877/1648877 [00:00<00:00, 5520052.33it/s]\n"
     ]
    },
    {
     "name": "stdout",
     "output_type": "stream",
     "text": [
      "Extracting ./data\\MNIST\\raw\\t10k-images-idx3-ubyte.gz to ./data\\MNIST\\raw\n",
      "\n",
      "Downloading http://yann.lecun.com/exdb/mnist/t10k-labels-idx1-ubyte.gz\n",
      "Downloading http://yann.lecun.com/exdb/mnist/t10k-labels-idx1-ubyte.gz to ./data\\MNIST\\raw\\t10k-labels-idx1-ubyte.gz\n"
     ]
    },
    {
     "name": "stderr",
     "output_type": "stream",
     "text": [
      "100%|██████████| 4542/4542 [00:00<?, ?it/s]"
     ]
    },
    {
     "name": "stdout",
     "output_type": "stream",
     "text": [
      "Extracting ./data\\MNIST\\raw\\t10k-labels-idx1-ubyte.gz to ./data\\MNIST\\raw\n",
      "\n"
     ]
    },
    {
     "name": "stderr",
     "output_type": "stream",
     "text": [
      "\n"
     ]
    }
   ],
   "source": [
    "batch_size = 64\n",
    "transform = transforms.Compose([\n",
    "    transforms.ToTensor(),\n",
    "])\n",
    "\n",
    "train_dataset = datasets.MNIST(root='./data', train=True, download=True, transform=transform)\n",
    "test_dataset = datasets.MNIST(root='./data', train=False, download=True, transform=transform)\n",
    "\n",
    "train_loader = DataLoader(dataset=train_dataset, batch_size=batch_size, shuffle=True)\n",
    "test_loader = DataLoader(dataset=test_dataset, batch_size=batch_size, shuffle=False)\n"
   ]
  },
  {
   "cell_type": "code",
   "execution_count": 5,
   "metadata": {},
   "outputs": [],
   "source": [
    "\n",
    "learning_rate = 0.01\n",
    "num_epochs = 10\n",
    "\n",
    "layer_sizes = [784, 128, 64, 10]\n",
    "activation_funcs=[F.relu, F.relu, F.relu]\n",
    "batchnorm_opts = [True, True, None]\n",
    "dropout_opts = [0.1, 0.1, None]\n",
    "model = MLP(layer_sizes, batchnorm_opts=batchnorm_opts, activation_funcs=activation_funcs, dropout_opts=dropout_opts)\n",
    "\n",
    "criterion = nn.CrossEntropyLoss()\n",
    "optimizer = optim.Adam(model.parameters(), lr=learning_rate)"
   ]
  },
  {
   "cell_type": "code",
   "execution_count": 6,
   "metadata": {},
   "outputs": [],
   "source": [
    "def train_model():\n",
    "    model.train()\n",
    "    total_step = len(train_loader)\n",
    "    for epoch in range(num_epochs):\n",
    "        for i, (images, labels) in enumerate(train_loader):\n",
    "            images = images.reshape(-1, 28*28)\n",
    "            \n",
    "            outputs = model(images)\n",
    "            loss = criterion(outputs, labels)\n",
    "        \n",
    "            optimizer.zero_grad()\n",
    "            loss.backward()\n",
    "            optimizer.step()\n",
    "            \n",
    "            if (i+1) % 100 == 0:\n",
    "                print ('Epoch [{}/{}], Step [{}/{}], Loss: {:.4f}'\n",
    "                       .format(epoch+1, num_epochs, i+1, total_step, loss.item()))\n",
    "\n",
    "def evaluate_model(loader):\n",
    "    model.eval()\n",
    "    with torch.no_grad():\n",
    "        correct = 0\n",
    "        total = 0\n",
    "        for images, labels in loader:\n",
    "            images = images.reshape(-1, 28*28)\n",
    "            outputs = model(images)\n",
    "            _, predicted = torch.max(outputs.data, 1)\n",
    "            total += labels.size(0)\n",
    "            correct += (predicted == labels).sum().item()\n",
    "        accuracy = 100 * correct / total\n",
    "        return accuracy"
   ]
  },
  {
   "cell_type": "code",
   "execution_count": 7,
   "metadata": {},
   "outputs": [
    {
     "name": "stdout",
     "output_type": "stream",
     "text": [
      "Epoch [1/10], Step [100/938], Loss: 1.1004\n",
      "Epoch [1/10], Step [200/938], Loss: 1.1437\n",
      "Epoch [1/10], Step [300/938], Loss: 0.9237\n",
      "Epoch [1/10], Step [400/938], Loss: 1.1977\n",
      "Epoch [1/10], Step [500/938], Loss: 1.0508\n",
      "Epoch [1/10], Step [600/938], Loss: 0.7245\n",
      "Epoch [1/10], Step [700/938], Loss: 0.8430\n",
      "Epoch [1/10], Step [800/938], Loss: 0.9087\n",
      "Epoch [1/10], Step [900/938], Loss: 0.7385\n",
      "Epoch [2/10], Step [100/938], Loss: 0.6577\n",
      "Epoch [2/10], Step [200/938], Loss: 0.8543\n",
      "Epoch [2/10], Step [300/938], Loss: 0.9456\n",
      "Epoch [2/10], Step [400/938], Loss: 0.7947\n",
      "Epoch [2/10], Step [500/938], Loss: 0.7841\n",
      "Epoch [2/10], Step [600/938], Loss: 1.0193\n",
      "Epoch [2/10], Step [700/938], Loss: 0.9934\n",
      "Epoch [2/10], Step [800/938], Loss: 0.6751\n",
      "Epoch [2/10], Step [900/938], Loss: 0.7027\n",
      "Epoch [3/10], Step [100/938], Loss: 0.8815\n",
      "Epoch [3/10], Step [200/938], Loss: 0.8230\n",
      "Epoch [3/10], Step [300/938], Loss: 0.8763\n",
      "Epoch [3/10], Step [400/938], Loss: 0.9522\n",
      "Epoch [3/10], Step [500/938], Loss: 0.7572\n",
      "Epoch [3/10], Step [600/938], Loss: 0.8689\n",
      "Epoch [3/10], Step [700/938], Loss: 0.8103\n",
      "Epoch [3/10], Step [800/938], Loss: 0.6664\n",
      "Epoch [3/10], Step [900/938], Loss: 0.8049\n",
      "Epoch [4/10], Step [100/938], Loss: 1.0295\n",
      "Epoch [4/10], Step [200/938], Loss: 0.9053\n",
      "Epoch [4/10], Step [300/938], Loss: 0.7490\n",
      "Epoch [4/10], Step [400/938], Loss: 0.7672\n",
      "Epoch [4/10], Step [500/938], Loss: 0.6499\n",
      "Epoch [4/10], Step [600/938], Loss: 0.6306\n",
      "Epoch [4/10], Step [700/938], Loss: 0.8161\n",
      "Epoch [4/10], Step [800/938], Loss: 0.6336\n",
      "Epoch [4/10], Step [900/938], Loss: 0.7204\n",
      "Epoch [5/10], Step [100/938], Loss: 0.5097\n",
      "Epoch [5/10], Step [200/938], Loss: 0.6900\n",
      "Epoch [5/10], Step [300/938], Loss: 0.5890\n",
      "Epoch [5/10], Step [400/938], Loss: 0.5952\n",
      "Epoch [5/10], Step [500/938], Loss: 0.7302\n",
      "Epoch [5/10], Step [600/938], Loss: 0.6199\n",
      "Epoch [5/10], Step [700/938], Loss: 0.6327\n",
      "Epoch [5/10], Step [800/938], Loss: 0.5877\n",
      "Epoch [5/10], Step [900/938], Loss: 0.7525\n",
      "Epoch [6/10], Step [100/938], Loss: 0.5073\n",
      "Epoch [6/10], Step [200/938], Loss: 0.6949\n",
      "Epoch [6/10], Step [300/938], Loss: 0.3469\n",
      "Epoch [6/10], Step [400/938], Loss: 0.5442\n",
      "Epoch [6/10], Step [500/938], Loss: 0.5606\n",
      "Epoch [6/10], Step [600/938], Loss: 0.5905\n",
      "Epoch [6/10], Step [700/938], Loss: 0.6312\n",
      "Epoch [6/10], Step [800/938], Loss: 0.4626\n",
      "Epoch [6/10], Step [900/938], Loss: 0.7609\n",
      "Epoch [7/10], Step [100/938], Loss: 0.6102\n",
      "Epoch [7/10], Step [200/938], Loss: 0.5110\n",
      "Epoch [7/10], Step [300/938], Loss: 0.5593\n",
      "Epoch [7/10], Step [400/938], Loss: 0.5655\n",
      "Epoch [7/10], Step [500/938], Loss: 0.6733\n",
      "Epoch [7/10], Step [600/938], Loss: 0.5895\n",
      "Epoch [7/10], Step [700/938], Loss: 0.6992\n",
      "Epoch [7/10], Step [800/938], Loss: 0.2908\n",
      "Epoch [7/10], Step [900/938], Loss: 0.7249\n",
      "Epoch [8/10], Step [100/938], Loss: 0.5266\n",
      "Epoch [8/10], Step [200/938], Loss: 0.5751\n",
      "Epoch [8/10], Step [300/938], Loss: 0.7188\n",
      "Epoch [8/10], Step [400/938], Loss: 0.5893\n",
      "Epoch [8/10], Step [500/938], Loss: 0.4957\n",
      "Epoch [8/10], Step [600/938], Loss: 0.5562\n",
      "Epoch [8/10], Step [700/938], Loss: 0.4204\n",
      "Epoch [8/10], Step [800/938], Loss: 0.4785\n",
      "Epoch [8/10], Step [900/938], Loss: 0.5545\n",
      "Epoch [9/10], Step [100/938], Loss: 0.5063\n",
      "Epoch [9/10], Step [200/938], Loss: 0.9160\n",
      "Epoch [9/10], Step [300/938], Loss: 0.4216\n",
      "Epoch [9/10], Step [400/938], Loss: 0.3407\n",
      "Epoch [9/10], Step [500/938], Loss: 0.9194\n",
      "Epoch [9/10], Step [600/938], Loss: 0.5673\n",
      "Epoch [9/10], Step [700/938], Loss: 0.8063\n",
      "Epoch [9/10], Step [800/938], Loss: 0.4532\n",
      "Epoch [9/10], Step [900/938], Loss: 0.5658\n",
      "Epoch [10/10], Step [100/938], Loss: 0.6755\n",
      "Epoch [10/10], Step [200/938], Loss: 0.3638\n",
      "Epoch [10/10], Step [300/938], Loss: 0.5485\n",
      "Epoch [10/10], Step [400/938], Loss: 0.4444\n",
      "Epoch [10/10], Step [500/938], Loss: 0.4641\n",
      "Epoch [10/10], Step [600/938], Loss: 0.5369\n",
      "Epoch [10/10], Step [700/938], Loss: 0.3606\n",
      "Epoch [10/10], Step [800/938], Loss: 0.4494\n",
      "Epoch [10/10], Step [900/938], Loss: 0.5230\n",
      "Accuracy of the model on the training set: 87.99666666666667%\n",
      "Accuracy of the model on the test set: 86.72%\n"
     ]
    }
   ],
   "source": [
    "train_model()\n",
    "train_accuracy = evaluate_model(train_loader)\n",
    "test_accuracy = evaluate_model(test_loader)\n",
    "print(f'Accuracy of the model on the training set: {train_accuracy}%')\n",
    "print(f'Accuracy of the model on the test set: {test_accuracy}%')"
   ]
  }
 ],
 "metadata": {
  "kernelspec": {
   "display_name": "base",
   "language": "python",
   "name": "python3"
  },
  "language_info": {
   "codemirror_mode": {
    "name": "ipython",
    "version": 3
   },
   "file_extension": ".py",
   "mimetype": "text/x-python",
   "name": "python",
   "nbconvert_exporter": "python",
   "pygments_lexer": "ipython3",
   "version": "3.11.4"
  }
 },
 "nbformat": 4,
 "nbformat_minor": 2
}
